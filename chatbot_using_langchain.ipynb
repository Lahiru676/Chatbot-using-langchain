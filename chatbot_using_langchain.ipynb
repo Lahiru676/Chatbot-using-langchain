{
  "nbformat": 4,
  "nbformat_minor": 0,
  "metadata": {
    "colab": {
      "provenance": [],
      "authorship_tag": "ABX9TyN5b2FGIDWb7ORPT3p8IAwL",
      "include_colab_link": true
    },
    "kernelspec": {
      "name": "python3",
      "display_name": "Python 3"
    },
    "language_info": {
      "name": "python"
    }
  },
  "cells": [
    {
      "cell_type": "markdown",
      "metadata": {
        "id": "view-in-github",
        "colab_type": "text"
      },
      "source": [
        "<a href=\"https://colab.research.google.com/github/Lahiru676/Chatbot-using-langchain/blob/main/chatbot_using_langchain.ipynb\" target=\"_parent\"><img src=\"https://colab.research.google.com/assets/colab-badge.svg\" alt=\"Open In Colab\"/></a>"
      ]
    },
    {
      "cell_type": "markdown",
      "source": [
        "SIMPLE CHATBOT using Langchain and openAI\n"
      ],
      "metadata": {
        "id": "Yode6K8s3EpR"
      }
    },
    {
      "cell_type": "code",
      "execution_count": 3,
      "metadata": {
        "colab": {
          "base_uri": "https://localhost:8080/"
        },
        "id": "bbQ9bJ612We9",
        "outputId": "95f38289-3131-4cf8-9ea4-f40d5a23e319"
      },
      "outputs": [
        {
          "output_type": "stream",
          "name": "stdout",
          "text": [
            "\u001b[?25l   \u001b[90m━━━━━━━━━━━━━━━━━━━━━━━━━━━━━━━━━━━━━━━━\u001b[0m \u001b[32m0.0/1.0 MB\u001b[0m \u001b[31m?\u001b[0m eta \u001b[36m-:--:--\u001b[0m\r\u001b[2K   \u001b[91m━━━━━━━━━━━━━━━━━━━━━━━━━━━━━━━\u001b[0m\u001b[91m╸\u001b[0m\u001b[90m━━━━━━━━\u001b[0m \u001b[32m0.8/1.0 MB\u001b[0m \u001b[31m19.0 MB/s\u001b[0m eta \u001b[36m0:00:01\u001b[0m\r\u001b[2K   \u001b[90m━━━━━━━━━━━━━━━━━━━━━━━━━━━━━━━━━━━━━━━━\u001b[0m \u001b[32m1.0/1.0 MB\u001b[0m \u001b[31m15.3 MB/s\u001b[0m eta \u001b[36m0:00:00\u001b[0m\n",
            "\u001b[2K   \u001b[90m━━━━━━━━━━━━━━━━━━━━━━━━━━━━━━━━━━━━━━━━\u001b[0m \u001b[32m408.7/408.7 kB\u001b[0m \u001b[31m22.1 MB/s\u001b[0m eta \u001b[36m0:00:00\u001b[0m\n",
            "\u001b[2K   \u001b[90m━━━━━━━━━━━━━━━━━━━━━━━━━━━━━━━━━━━━━━━━\u001b[0m \u001b[32m50.4/50.4 kB\u001b[0m \u001b[31m2.3 MB/s\u001b[0m eta \u001b[36m0:00:00\u001b[0m\n",
            "\u001b[2K   \u001b[90m━━━━━━━━━━━━━━━━━━━━━━━━━━━━━━━━━━━━━━━━\u001b[0m \u001b[32m1.2/1.2 MB\u001b[0m \u001b[31m22.1 MB/s\u001b[0m eta \u001b[36m0:00:00\u001b[0m\n",
            "\u001b[?25h"
          ]
        }
      ],
      "source": [
        "!pip install langchain -qU #install necessary packeges\n",
        "!pip install langchain-openai -qU\n",
        "\n",
        "\n"
      ]
    },
    {
      "cell_type": "code",
      "source": [
        "#install necessary libraries\n",
        "import os\n",
        "from google.colab import userdata"
      ],
      "metadata": {
        "id": "MnzTfWyU3i4p"
      },
      "execution_count": 4,
      "outputs": []
    },
    {
      "cell_type": "markdown",
      "source": [
        "  INITIALIZE language model OPENAI LLM"
      ],
      "metadata": {
        "id": "nF2AOQrE4ts5"
      }
    },
    {
      "cell_type": "code",
      "source": [
        "from langchain_openai import ChatOpenAI\n",
        "#set api key\n",
        "os.environ['OPENAI_API_KEY'] = userdata.get('OPENAI_API_KEY')\n",
        "\n",
        "#Initialize the chat bot model\n",
        "llm = ChatOpenAI(\n",
        "    model = 'gpt-3.5-turbo',\n",
        "    temperature = 0\n",
        "\n",
        ")\n"
      ],
      "metadata": {
        "id": "PUKjgpQ049vu"
      },
      "execution_count": 6,
      "outputs": []
    },
    {
      "cell_type": "markdown",
      "source": [
        "Initialize prompt template"
      ],
      "metadata": {
        "id": "iwkgfsb-63tH"
      }
    },
    {
      "cell_type": "code",
      "source": [
        "from langchain_core.prompts import ChatPromptTemplate\n",
        "\n",
        "#create a prompt template\n",
        "prompt = ChatPromptTemplate.from_messages(\n",
        "    [\n",
        "        (\"system\",\"you are an intelligent chatbot.answer the following question\"),\n",
        "        (\"user\",\"{question}\")\n",
        "    ]\n",
        "\n",
        ")"
      ],
      "metadata": {
        "id": "8KLzvNG666sw"
      },
      "execution_count": 8,
      "outputs": []
    },
    {
      "cell_type": "markdown",
      "source": [
        "Initialize output parser"
      ],
      "metadata": {
        "id": "wq61MFnC8SWV"
      }
    },
    {
      "cell_type": "code",
      "source": [
        "from langchain_core.output_parsers import StrOutputParser\n",
        "\n",
        "#create output parser\n",
        "parser = StrOutputParser()"
      ],
      "metadata": {
        "id": "4sDwQIcE8cpo"
      },
      "execution_count": 10,
      "outputs": []
    },
    {
      "cell_type": "code",
      "source": [
        "#Chain the prompt,LLM,and output parser\n",
        "chain = prompt | llm | parser"
      ],
      "metadata": {
        "id": "Ybrq2A4G822E"
      },
      "execution_count": 11,
      "outputs": []
    },
    {
      "cell_type": "code",
      "source": [
        " question = \"my name is lahiru\"\n",
        " response = chain.invoke({\"question\":question})\n",
        " print(response)"
      ],
      "metadata": {
        "colab": {
          "base_uri": "https://localhost:8080/"
        },
        "id": "qqQAHmox98ol",
        "outputId": "addfc24a-1e0d-4fa6-dfef-4c1786a85975"
      },
      "execution_count": 13,
      "outputs": [
        {
          "output_type": "stream",
          "name": "stdout",
          "text": [
            "Nice to meet you, Lahiru! How can I assist you today?\n"
          ]
        }
      ]
    },
    {
      "cell_type": "markdown",
      "source": [
        "Initialize Prompt Template for dynamic intraction"
      ],
      "metadata": {
        "id": "yM9mLN9j_Rci"
      }
    },
    {
      "cell_type": "code",
      "source": [
        "from langchain_core.prompts import MessagesPlaceholder\n",
        "from langchain_core.messages import HumanMessage,AIMessage,SystemMessage\n",
        "\n",
        "#create a prompt template\n",
        "prompt = ChatPromptTemplate.from_messages(\n",
        "    [\n",
        "        SystemMessage(content=\"you are an intelligent chatbot.answer the following question\"),\n",
        "        MessagesPlaceholder(variable_name=\"question\"),\n",
        "\n",
        "    ]\n",
        ")"
      ],
      "metadata": {
        "id": "k9zqaYO3_Zl7"
      },
      "execution_count": 15,
      "outputs": []
    },
    {
      "cell_type": "code",
      "source": [
        "chain = prompt | llm | parser"
      ],
      "metadata": {
        "id": "ZVMIt0idBdJe"
      },
      "execution_count": 16,
      "outputs": []
    },
    {
      "cell_type": "code",
      "source": [
        "question = \"my name is lahiru\"\n",
        "response = chain.invoke({'question':[HumanMessage(content=question)]})\n",
        "print(response)"
      ],
      "metadata": {
        "colab": {
          "base_uri": "https://localhost:8080/"
        },
        "id": "Ushyu1e-BmP8",
        "outputId": "d84f4d1d-1163-4958-cd29-a0f06aa86340"
      },
      "execution_count": 18,
      "outputs": [
        {
          "output_type": "stream",
          "name": "stdout",
          "text": [
            "Hello Lahiru! How can I assist you today?\n"
          ]
        }
      ]
    },
    {
      "cell_type": "code",
      "source": [
        "question = \"who am i\"\n",
        "response = chain.invoke({'question':[HumanMessage(content=question)]})\n",
        "print(response)"
      ],
      "metadata": {
        "colab": {
          "base_uri": "https://localhost:8080/"
        },
        "id": "qeExKt8LCVhc",
        "outputId": "0fb44992-6eb7-4c59-f489-c2d8c65ccdd6"
      },
      "execution_count": 19,
      "outputs": [
        {
          "output_type": "stream",
          "name": "stdout",
          "text": [
            "You are a user interacting with me, a chatbot, on this platform. If you would like to share more about yourself, feel free to do so!\n"
          ]
        }
      ]
    },
    {
      "cell_type": "markdown",
      "source": [
        "this model cant remberber ealier conversation"
      ],
      "metadata": {
        "id": "P6_88Dp9CrDg"
      }
    },
    {
      "cell_type": "markdown",
      "source": [
        "Initialize prompt Template with predefined conversation history"
      ],
      "metadata": {
        "id": "PBRLXyiFDKuR"
      }
    },
    {
      "cell_type": "code",
      "source": [
        "prompt =  ChatPromptTemplate.from_messages(\n",
        "    [\n",
        "        SystemMessage(content=\"you are an intelligent chatbot.answer the following question\"),\n",
        "        HumanMessage(content=\"my name is lahiru\"),\n",
        "        AIMessage(content=\"Hello Lahiru! How can I assist you today?\"),\n",
        "        MessagesPlaceholder(variable_name=\"question\"),\n",
        "\n",
        "    ]\n",
        ")\n"
      ],
      "metadata": {
        "id": "VOcccA_wCv9R"
      },
      "execution_count": 20,
      "outputs": []
    },
    {
      "cell_type": "code",
      "source": [
        "chain = prompt | llm | parser"
      ],
      "metadata": {
        "id": "nLnDUv8BE71y"
      },
      "execution_count": 21,
      "outputs": []
    },
    {
      "cell_type": "code",
      "source": [
        "question = \"who am i\"\n",
        "response = chain.invoke({'question':[HumanMessage(content=question)]})\n",
        "print(response)"
      ],
      "metadata": {
        "colab": {
          "base_uri": "https://localhost:8080/"
        },
        "id": "lz_ONHkEE_hT",
        "outputId": "1c0c04bc-80d3-4730-ed10-4b9922b262da"
      },
      "execution_count": 22,
      "outputs": [
        {
          "output_type": "stream",
          "name": "stdout",
          "text": [
            "You are Lahiru, the person who is interacting with me right now.\n"
          ]
        }
      ]
    },
    {
      "cell_type": "code",
      "source": [
        "history = [\n",
        "    HumanMessage(content=\"my name is lahiru\"),\n",
        "    AIMessage(content=\"Hello Lahiru! How can I assist you today?\"),\n",
        "    HumanMessage(content=\"who am i\"),\n",
        "    AIMessage(content = 'what the hell are you doing')\n",
        "\n",
        "\n",
        "]"
      ],
      "metadata": {
        "id": "8UoEtIO8FKhY"
      },
      "execution_count": 34,
      "outputs": []
    },
    {
      "cell_type": "code",
      "source": [
        "chain = prompt | llm |parser"
      ],
      "metadata": {
        "id": "kgOul1i6GavK"
      },
      "execution_count": 24,
      "outputs": []
    },
    {
      "cell_type": "code",
      "source": [
        "question = \"who am i\"\n",
        "response = chain.invoke({'history':history,'question':[HumanMessage(content= question)]})\n",
        "print(response)"
      ],
      "metadata": {
        "colab": {
          "base_uri": "https://localhost:8080/"
        },
        "id": "4puX39xYGq9Y",
        "outputId": "07ea291d-32cc-42f6-aba4-81b3dec67df2"
      },
      "execution_count": 28,
      "outputs": [
        {
          "output_type": "stream",
          "name": "stdout",
          "text": [
            "You are Lahiru, the person who is interacting with me right now.\n"
          ]
        }
      ]
    },
    {
      "cell_type": "markdown",
      "source": [
        "Update and dispaly conversation History"
      ],
      "metadata": {
        "id": "PQZIoJFxH51f"
      }
    },
    {
      "cell_type": "code",
      "source": [
        "history"
      ],
      "metadata": {
        "colab": {
          "base_uri": "https://localhost:8080/"
        },
        "id": "apcxhHbRHKcv",
        "outputId": "cd1a4212-9d10-4e62-ef97-9c1a463dcc04"
      },
      "execution_count": 29,
      "outputs": [
        {
          "output_type": "execute_result",
          "data": {
            "text/plain": [
              "[HumanMessage(content='my name is lahiru', additional_kwargs={}, response_metadata={}),\n",
              " AIMessage(content='Hello Lahiru! How can I assist you today?', additional_kwargs={}, response_metadata={}),\n",
              " HumanMessage(content='who am i', additional_kwargs={}, response_metadata={})]"
            ]
          },
          "metadata": {},
          "execution_count": 29
        }
      ]
    },
    {
      "cell_type": "code",
      "source": [
        "history.extend([HumanMessage(content = question),AIMessage(content = response)])"
      ],
      "metadata": {
        "id": "1ztn4ay5IA7X"
      },
      "execution_count": 30,
      "outputs": []
    },
    {
      "cell_type": "code",
      "source": [
        "history"
      ],
      "metadata": {
        "colab": {
          "base_uri": "https://localhost:8080/"
        },
        "id": "BWaa7zsSIqo_",
        "outputId": "81ffd8cd-2e16-4578-e268-851bf465b7c9"
      },
      "execution_count": 31,
      "outputs": [
        {
          "output_type": "execute_result",
          "data": {
            "text/plain": [
              "[HumanMessage(content='my name is lahiru', additional_kwargs={}, response_metadata={}),\n",
              " AIMessage(content='Hello Lahiru! How can I assist you today?', additional_kwargs={}, response_metadata={}),\n",
              " HumanMessage(content='who am i', additional_kwargs={}, response_metadata={}),\n",
              " HumanMessage(content='who am i', additional_kwargs={}, response_metadata={}),\n",
              " AIMessage(content='You are Lahiru, the person who is interacting with me right now.', additional_kwargs={}, response_metadata={})]"
            ]
          },
          "metadata": {},
          "execution_count": 31
        }
      ]
    },
    {
      "cell_type": "code",
      "source": [
        "question = \"sri lanka capital?\"\n",
        "response = chain.invoke({'history': history,\"question\": [HumanMessage(content = question)]})\n",
        "history.extend([HumanMessage(content = question),AIMessage(content = response)])\n",
        "print(response)"
      ],
      "metadata": {
        "colab": {
          "base_uri": "https://localhost:8080/"
        },
        "id": "45dNmpMqIsm-",
        "outputId": "c6fd821b-1534-487d-bc2e-d5827e24cb39"
      },
      "execution_count": 37,
      "outputs": [
        {
          "output_type": "stream",
          "name": "stdout",
          "text": [
            "The capital of Sri Lanka is Colombo.\n"
          ]
        }
      ]
    },
    {
      "cell_type": "code",
      "source": [
        "history"
      ],
      "metadata": {
        "colab": {
          "base_uri": "https://localhost:8080/"
        },
        "id": "rW98rvSuJd09",
        "outputId": "6c43003e-49f0-4f53-a137-bdf157c09c20"
      },
      "execution_count": 38,
      "outputs": [
        {
          "output_type": "execute_result",
          "data": {
            "text/plain": [
              "[HumanMessage(content='my name is lahiru', additional_kwargs={}, response_metadata={}),\n",
              " AIMessage(content='Hello Lahiru! How can I assist you today?', additional_kwargs={}, response_metadata={}),\n",
              " HumanMessage(content='who am i', additional_kwargs={}, response_metadata={}),\n",
              " AIMessage(content='what the hell are you doing', additional_kwargs={}, response_metadata={}),\n",
              " HumanMessage(content='what is my last question', additional_kwargs={}, response_metadata={}),\n",
              " AIMessage(content='Your last question was \"my name is lahiru\". How can I assist you further?', additional_kwargs={}, response_metadata={}),\n",
              " HumanMessage(content='sri lanka capital?', additional_kwargs={}, response_metadata={}),\n",
              " AIMessage(content='The capital of Sri Lanka is Colombo.', additional_kwargs={}, response_metadata={})]"
            ]
          },
          "metadata": {},
          "execution_count": 38
        }
      ]
    },
    {
      "cell_type": "code",
      "source": [
        "question = \"what is my final question?\"\n",
        "response = chain.invoke({'history': history,\"question\": [HumanMessage(content = question)]})\n",
        "history.extend([HumanMessage(content = question),AIMessage(content = response)])\n",
        "print(response)"
      ],
      "metadata": {
        "colab": {
          "base_uri": "https://localhost:8080/"
        },
        "id": "k2oDzMFeKB70",
        "outputId": "19612095-0ba3-4be6-8c31-4fd9211b85ab"
      },
      "execution_count": 40,
      "outputs": [
        {
          "output_type": "stream",
          "name": "stdout",
          "text": [
            "Your final question is \"what is my final question?\"\n"
          ]
        }
      ]
    },
    {
      "cell_type": "code",
      "source": [
        "history"
      ],
      "metadata": {
        "colab": {
          "base_uri": "https://localhost:8080/"
        },
        "id": "AlPizHvXKXEu",
        "outputId": "55fa6289-8ab1-4f1b-b063-13dc26116b23"
      },
      "execution_count": 41,
      "outputs": [
        {
          "output_type": "execute_result",
          "data": {
            "text/plain": [
              "[HumanMessage(content='my name is lahiru', additional_kwargs={}, response_metadata={}),\n",
              " AIMessage(content='Hello Lahiru! How can I assist you today?', additional_kwargs={}, response_metadata={}),\n",
              " HumanMessage(content='who am i', additional_kwargs={}, response_metadata={}),\n",
              " AIMessage(content='what the hell are you doing', additional_kwargs={}, response_metadata={}),\n",
              " HumanMessage(content='what is my last question', additional_kwargs={}, response_metadata={}),\n",
              " AIMessage(content='Your last question was \"my name is lahiru\". How can I assist you further?', additional_kwargs={}, response_metadata={}),\n",
              " HumanMessage(content='sri lanka capital?', additional_kwargs={}, response_metadata={}),\n",
              " AIMessage(content='The capital of Sri Lanka is Colombo.', additional_kwargs={}, response_metadata={}),\n",
              " HumanMessage(content='what is my last question?', additional_kwargs={}, response_metadata={}),\n",
              " AIMessage(content='Your last question was \"my name is lahiru\". How can I help you further?', additional_kwargs={}, response_metadata={}),\n",
              " HumanMessage(content='what is my final question?', additional_kwargs={}, response_metadata={}),\n",
              " AIMessage(content='Your final question is \"what is my final question?\"', additional_kwargs={}, response_metadata={})]"
            ]
          },
          "metadata": {},
          "execution_count": 41
        }
      ]
    },
    {
      "cell_type": "code",
      "source": [
        "history[-4:]"
      ],
      "metadata": {
        "colab": {
          "base_uri": "https://localhost:8080/"
        },
        "id": "06ZGNZ4jKiGs",
        "outputId": "d7d9871b-5651-4ec9-9493-943768795da1"
      },
      "execution_count": 42,
      "outputs": [
        {
          "output_type": "execute_result",
          "data": {
            "text/plain": [
              "[HumanMessage(content='what is my last question?', additional_kwargs={}, response_metadata={}),\n",
              " AIMessage(content='Your last question was \"my name is lahiru\". How can I help you further?', additional_kwargs={}, response_metadata={}),\n",
              " HumanMessage(content='what is my final question?', additional_kwargs={}, response_metadata={}),\n",
              " AIMessage(content='Your final question is \"what is my final question?\"', additional_kwargs={}, response_metadata={})]"
            ]
          },
          "metadata": {},
          "execution_count": 42
        }
      ]
    },
    {
      "cell_type": "code",
      "source": [
        "question = \"what is my name\"\n",
        "response = chain.invoke({'history': history,\"question\": [HumanMessage(content = question)]})\n",
        "history.extend([HumanMessage(content = question),AIMessage(content = response)])\n",
        "print(response)"
      ],
      "metadata": {
        "colab": {
          "base_uri": "https://localhost:8080/"
        },
        "id": "1rynxTHPK6I1",
        "outputId": "740b0825-b4dd-4279-c660-a826cdcbbde9"
      },
      "execution_count": 43,
      "outputs": [
        {
          "output_type": "stream",
          "name": "stdout",
          "text": [
            "Your name is Lahiru.\n"
          ]
        }
      ]
    }
  ]
}